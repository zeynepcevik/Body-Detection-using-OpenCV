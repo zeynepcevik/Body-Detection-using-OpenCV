{
 "cells": [
  {
   "cell_type": "code",
   "execution_count": 1,
   "id": "46322659",
   "metadata": {},
   "outputs": [],
   "source": [
    "import cv2"
   ]
  },
  {
   "cell_type": "code",
   "execution_count": 2,
   "id": "2ec491de",
   "metadata": {},
   "outputs": [],
   "source": [
    "body_cascade  = cv2.CascadeClassifier(\"haarcascade_fullbody.xml\")\n",
    "#cascade classifier yüklendi"
   ]
  },
  {
   "cell_type": "code",
   "execution_count": 3,
   "id": "48139e71",
   "metadata": {},
   "outputs": [],
   "source": [
    "vid = cv2.VideoCapture(\"pexels_videos_2670 (1080p) (1).mp4\")"
   ]
  },
  {
   "cell_type": "code",
   "execution_count": 4,
   "id": "c019b60c",
   "metadata": {},
   "outputs": [],
   "source": [
    "while True:\n",
    "    response, color_image = vid.read()\n",
    "    if response == False:\n",
    "        break\n",
    "    grey_image = cv2.cvtColor(color_image, cv2.COLOR_BGR2GRAY)\n",
    "    body = body_cascade.detectMultiScale(grey_image, 1.1, 2)\n",
    "    for (x, y, w, h) in body:\n",
    "        cv2.rectangle(color_image, (x, y), (x+w, y+h), (0, 255, 255), 2)\n",
    "        cv2.imshow('Detector', color_image)\n",
    "    if cv2.waitKey(1) & 0xFF == ord('q'):\n",
    "        break\n",
    "\n",
    "vid.release()"
   ]
  },
  {
   "cell_type": "code",
   "execution_count": null,
   "id": "4f54af88",
   "metadata": {},
   "outputs": [],
   "source": []
  }
 ],
 "metadata": {
  "kernelspec": {
   "display_name": "Python 3 (ipykernel)",
   "language": "python",
   "name": "python3"
  },
  "language_info": {
   "codemirror_mode": {
    "name": "ipython",
    "version": 3
   },
   "file_extension": ".py",
   "mimetype": "text/x-python",
   "name": "python",
   "nbconvert_exporter": "python",
   "pygments_lexer": "ipython3",
   "version": "3.10.9"
  }
 },
 "nbformat": 4,
 "nbformat_minor": 5
}
